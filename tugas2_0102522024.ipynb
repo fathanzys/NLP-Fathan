{
  "cells": [
    {
      "cell_type": "markdown",
      "metadata": {
        "id": "view-in-github",
        "colab_type": "text"
      },
      "source": [
        "<a href=\"https://colab.research.google.com/github/fathanzys/NLP-Fathan/blob/NLP_Code/tugas2_0102522024.ipynb\" target=\"_parent\"><img src=\"https://colab.research.google.com/assets/colab-badge.svg\" alt=\"Open In Colab\"/></a>"
      ]
    },
    {
      "cell_type": "markdown",
      "id": "a9c8c3b3",
      "metadata": {
        "id": "a9c8c3b3"
      },
      "source": [
        "# Natural Language Processing\n",
        "\n",
        "## Tugas 2: Klasifikasi Teks\n",
        "\n",
        "### Mekanisme\n",
        "\n",
        "Anda hanya diwajibkan untuk mengumpulkan file ini saja ke uploader yang disediakan di https://elearning.uai.ac.id/. Ganti nama file ini saat pengumpulan menjadi **tugas2_NIM.ipynb**.\n",
        "\n",
        "**Keterlambatan**: Pengumpulan tugas yang melebihi tenggat yang telah ditentukan tidak akan diterima. Keterlambatan akan berakibat pada nilai nol untuk tugas ini.\n",
        "\n",
        "**Kolaborasi**: Anda diperbolehkan untuk berdiskusi dengan teman Anda, tetapi dilarang keras menyalin kode maupun tulisan dari teman Anda.\n",
        "\n",
        "### Petunjuk\n",
        "\n",
        "Pastikan jawaban Anda singkat, padat, dan jelas. Mayoritas pertanyaan yang diberikan dapat dijawab dalam 3-4 kalimat saja."
      ]
    },
    {
      "cell_type": "code",
      "execution_count": null,
      "id": "fc2bd648",
      "metadata": {
        "id": "fc2bd648"
      },
      "outputs": [],
      "source": [
        "import matplotlib.pyplot as plt\n",
        "import numpy as np\n",
        "import pandas as pd"
      ]
    },
    {
      "cell_type": "code",
      "execution_count": null,
      "id": "6f2f10e8",
      "metadata": {
        "colab": {
          "base_uri": "https://localhost:8080/"
        },
        "id": "6f2f10e8",
        "outputId": "32f4c490-fd7d-4d70-cbfc-692401a5bc4e"
      },
      "outputs": [
        {
          "output_type": "stream",
          "name": "stdout",
          "text": [
            "Requirement already satisfied: huggingface_hub in /usr/local/lib/python3.11/dist-packages (0.31.1)\n",
            "Collecting fastparquet\n",
            "  Downloading fastparquet-2024.11.0-cp311-cp311-manylinux_2_17_x86_64.manylinux2014_x86_64.whl.metadata (4.2 kB)\n",
            "Requirement already satisfied: pyarrow in /usr/local/lib/python3.11/dist-packages (18.1.0)\n",
            "Requirement already satisfied: filelock in /usr/local/lib/python3.11/dist-packages (from huggingface_hub) (3.18.0)\n",
            "Requirement already satisfied: fsspec>=2023.5.0 in /usr/local/lib/python3.11/dist-packages (from huggingface_hub) (2025.3.2)\n",
            "Requirement already satisfied: packaging>=20.9 in /usr/local/lib/python3.11/dist-packages (from huggingface_hub) (24.2)\n",
            "Requirement already satisfied: pyyaml>=5.1 in /usr/local/lib/python3.11/dist-packages (from huggingface_hub) (6.0.2)\n",
            "Requirement already satisfied: requests in /usr/local/lib/python3.11/dist-packages (from huggingface_hub) (2.32.3)\n",
            "Requirement already satisfied: tqdm>=4.42.1 in /usr/local/lib/python3.11/dist-packages (from huggingface_hub) (4.67.1)\n",
            "Requirement already satisfied: typing-extensions>=3.7.4.3 in /usr/local/lib/python3.11/dist-packages (from huggingface_hub) (4.13.2)\n",
            "Requirement already satisfied: hf-xet<2.0.0,>=1.1.0 in /usr/local/lib/python3.11/dist-packages (from huggingface_hub) (1.1.0)\n",
            "Requirement already satisfied: pandas>=1.5.0 in /usr/local/lib/python3.11/dist-packages (from fastparquet) (2.2.2)\n",
            "Requirement already satisfied: numpy in /usr/local/lib/python3.11/dist-packages (from fastparquet) (2.0.2)\n",
            "Requirement already satisfied: cramjam>=2.3 in /usr/local/lib/python3.11/dist-packages (from fastparquet) (2.10.0)\n",
            "Requirement already satisfied: python-dateutil>=2.8.2 in /usr/local/lib/python3.11/dist-packages (from pandas>=1.5.0->fastparquet) (2.9.0.post0)\n",
            "Requirement already satisfied: pytz>=2020.1 in /usr/local/lib/python3.11/dist-packages (from pandas>=1.5.0->fastparquet) (2025.2)\n",
            "Requirement already satisfied: tzdata>=2022.7 in /usr/local/lib/python3.11/dist-packages (from pandas>=1.5.0->fastparquet) (2025.2)\n",
            "Requirement already satisfied: charset-normalizer<4,>=2 in /usr/local/lib/python3.11/dist-packages (from requests->huggingface_hub) (3.4.2)\n",
            "Requirement already satisfied: idna<4,>=2.5 in /usr/local/lib/python3.11/dist-packages (from requests->huggingface_hub) (3.10)\n",
            "Requirement already satisfied: urllib3<3,>=1.21.1 in /usr/local/lib/python3.11/dist-packages (from requests->huggingface_hub) (2.4.0)\n",
            "Requirement already satisfied: certifi>=2017.4.17 in /usr/local/lib/python3.11/dist-packages (from requests->huggingface_hub) (2025.4.26)\n",
            "Requirement already satisfied: six>=1.5 in /usr/local/lib/python3.11/dist-packages (from python-dateutil>=2.8.2->pandas>=1.5.0->fastparquet) (1.17.0)\n",
            "Downloading fastparquet-2024.11.0-cp311-cp311-manylinux_2_17_x86_64.manylinux2014_x86_64.whl (1.8 MB)\n",
            "\u001b[2K   \u001b[90m━━━━━━━━━━━━━━━━━━━━━━━━━━━━━━━━━━━━━━━━\u001b[0m \u001b[32m1.8/1.8 MB\u001b[0m \u001b[31m19.1 MB/s\u001b[0m eta \u001b[36m0:00:00\u001b[0m\n",
            "\u001b[?25hInstalling collected packages: fastparquet\n",
            "Successfully installed fastparquet-2024.11.0\n"
          ]
        }
      ],
      "source": [
        "# Jalani cell ini untuk menginstalasi dependencies untuk memuat data\n",
        "!pip install huggingface_hub fastparquet pyarrow"
      ]
    },
    {
      "cell_type": "markdown",
      "id": "035c2fae",
      "metadata": {
        "id": "035c2fae"
      },
      "source": [
        "## 1. Klasifikasi Teks (15 poin)\n",
        "\n",
        "*Acknowledgement:* Data yang digunakan dalam tugas ini dikumpulkan oleh [Miguel Escobar Varela](https://miguelescobar.com/) dan tersedia secara terbuka di [HuggingFace](https://huggingface.co/datasets/mevsg/warisan-classification-data-v1)."
      ]
    },
    {
      "cell_type": "code",
      "execution_count": null,
      "id": "83e1cbdc",
      "metadata": {
        "id": "83e1cbdc",
        "colab": {
          "base_uri": "https://localhost:8080/"
        },
        "outputId": "91da229c-9aef-498f-86d7-e5090aaaab12"
      },
      "outputs": [
        {
          "output_type": "stream",
          "name": "stderr",
          "text": [
            "/usr/local/lib/python3.11/dist-packages/huggingface_hub/utils/_auth.py:94: UserWarning: \n",
            "The secret `HF_TOKEN` does not exist in your Colab secrets.\n",
            "To authenticate with the Hugging Face Hub, create a token in your settings tab (https://huggingface.co/settings/tokens), set it as secret in your Google Colab and restart your session.\n",
            "You will be able to reuse this secret in all of your notebooks.\n",
            "Please note that authentication is recommended but still optional to access public models or datasets.\n",
            "  warnings.warn(\n"
          ]
        }
      ],
      "source": [
        "splits = {'train': 'data/train-00000-of-00001.parquet', 'test': 'data/test-00000-of-00001.parquet'}\n",
        "df_train = pd.read_parquet(\"hf://datasets/mevsg/warisan-classification-data-v1/\" + splits[\"train\"])\n",
        "df_test = pd.read_parquet(\"hf://datasets/mevsg/warisan-classification-data-v1/\" + splits[\"test\"])"
      ]
    },
    {
      "cell_type": "code",
      "execution_count": null,
      "id": "e593d4a3",
      "metadata": {
        "colab": {
          "base_uri": "https://localhost:8080/",
          "height": 206
        },
        "id": "e593d4a3",
        "outputId": "e614ce43-d11e-4a22-e8ff-c3080ce732dd"
      },
      "outputs": [
        {
          "output_type": "execute_result",
          "data": {
            "text/plain": [
              "                                               texts  \\\n",
              "0  Bogor (ANTARA) - Menteri Pemuda dan Olahraga R...   \n",
              "1  Singaraja, Bali (ANTARA) -\\n\\nSekolah Tinggi A...   \n",
              "2  Wakil Ketua Umum DPP PSI Andy Budiman mengatak...   \n",
              "3  Jakarta (ANTARA) - Sekelompok anak muda Papua ...   \n",
              "4  Ternate (ANTARA) - Pemerintah Kota Ternate, Ma...   \n",
              "\n",
              "                                            sentence  intangible  tangible  \\\n",
              "0  Bogor (ANTARA) - Menteri Pemuda dan Olahraga R...           1         0   \n",
              "1  Suwindia mengatakan pelestarian kearifan lokal...           1         1   \n",
              "2  Andy menilai Semarang memiliki warisan budaya ...           0         1   \n",
              "3  Dari desain-desain yang kami buat itu, kami in...           1         0   \n",
              "4  \"Ritual ini merupakan warisan budaya mengandun...           1         0   \n",
              "\n",
              "   places  \n",
              "0       0  \n",
              "1       0  \n",
              "2       0  \n",
              "3       0  \n",
              "4       0  "
            ],
            "text/html": [
              "\n",
              "  <div id=\"df-034aed5c-e496-4f6c-a2dc-96a1db5c9baa\" class=\"colab-df-container\">\n",
              "    <div>\n",
              "<style scoped>\n",
              "    .dataframe tbody tr th:only-of-type {\n",
              "        vertical-align: middle;\n",
              "    }\n",
              "\n",
              "    .dataframe tbody tr th {\n",
              "        vertical-align: top;\n",
              "    }\n",
              "\n",
              "    .dataframe thead th {\n",
              "        text-align: right;\n",
              "    }\n",
              "</style>\n",
              "<table border=\"1\" class=\"dataframe\">\n",
              "  <thead>\n",
              "    <tr style=\"text-align: right;\">\n",
              "      <th></th>\n",
              "      <th>texts</th>\n",
              "      <th>sentence</th>\n",
              "      <th>intangible</th>\n",
              "      <th>tangible</th>\n",
              "      <th>places</th>\n",
              "    </tr>\n",
              "  </thead>\n",
              "  <tbody>\n",
              "    <tr>\n",
              "      <th>0</th>\n",
              "      <td>Bogor (ANTARA) - Menteri Pemuda dan Olahraga R...</td>\n",
              "      <td>Bogor (ANTARA) - Menteri Pemuda dan Olahraga R...</td>\n",
              "      <td>1</td>\n",
              "      <td>0</td>\n",
              "      <td>0</td>\n",
              "    </tr>\n",
              "    <tr>\n",
              "      <th>1</th>\n",
              "      <td>Singaraja, Bali (ANTARA) -\\n\\nSekolah Tinggi A...</td>\n",
              "      <td>Suwindia mengatakan pelestarian kearifan lokal...</td>\n",
              "      <td>1</td>\n",
              "      <td>1</td>\n",
              "      <td>0</td>\n",
              "    </tr>\n",
              "    <tr>\n",
              "      <th>2</th>\n",
              "      <td>Wakil Ketua Umum DPP PSI Andy Budiman mengatak...</td>\n",
              "      <td>Andy menilai Semarang memiliki warisan budaya ...</td>\n",
              "      <td>0</td>\n",
              "      <td>1</td>\n",
              "      <td>0</td>\n",
              "    </tr>\n",
              "    <tr>\n",
              "      <th>3</th>\n",
              "      <td>Jakarta (ANTARA) - Sekelompok anak muda Papua ...</td>\n",
              "      <td>Dari desain-desain yang kami buat itu, kami in...</td>\n",
              "      <td>1</td>\n",
              "      <td>0</td>\n",
              "      <td>0</td>\n",
              "    </tr>\n",
              "    <tr>\n",
              "      <th>4</th>\n",
              "      <td>Ternate (ANTARA) - Pemerintah Kota Ternate, Ma...</td>\n",
              "      <td>\"Ritual ini merupakan warisan budaya mengandun...</td>\n",
              "      <td>1</td>\n",
              "      <td>0</td>\n",
              "      <td>0</td>\n",
              "    </tr>\n",
              "  </tbody>\n",
              "</table>\n",
              "</div>\n",
              "    <div class=\"colab-df-buttons\">\n",
              "\n",
              "  <div class=\"colab-df-container\">\n",
              "    <button class=\"colab-df-convert\" onclick=\"convertToInteractive('df-034aed5c-e496-4f6c-a2dc-96a1db5c9baa')\"\n",
              "            title=\"Convert this dataframe to an interactive table.\"\n",
              "            style=\"display:none;\">\n",
              "\n",
              "  <svg xmlns=\"http://www.w3.org/2000/svg\" height=\"24px\" viewBox=\"0 -960 960 960\">\n",
              "    <path d=\"M120-120v-720h720v720H120Zm60-500h600v-160H180v160Zm220 220h160v-160H400v160Zm0 220h160v-160H400v160ZM180-400h160v-160H180v160Zm440 0h160v-160H620v160ZM180-180h160v-160H180v160Zm440 0h160v-160H620v160Z\"/>\n",
              "  </svg>\n",
              "    </button>\n",
              "\n",
              "  <style>\n",
              "    .colab-df-container {\n",
              "      display:flex;\n",
              "      gap: 12px;\n",
              "    }\n",
              "\n",
              "    .colab-df-convert {\n",
              "      background-color: #E8F0FE;\n",
              "      border: none;\n",
              "      border-radius: 50%;\n",
              "      cursor: pointer;\n",
              "      display: none;\n",
              "      fill: #1967D2;\n",
              "      height: 32px;\n",
              "      padding: 0 0 0 0;\n",
              "      width: 32px;\n",
              "    }\n",
              "\n",
              "    .colab-df-convert:hover {\n",
              "      background-color: #E2EBFA;\n",
              "      box-shadow: 0px 1px 2px rgba(60, 64, 67, 0.3), 0px 1px 3px 1px rgba(60, 64, 67, 0.15);\n",
              "      fill: #174EA6;\n",
              "    }\n",
              "\n",
              "    .colab-df-buttons div {\n",
              "      margin-bottom: 4px;\n",
              "    }\n",
              "\n",
              "    [theme=dark] .colab-df-convert {\n",
              "      background-color: #3B4455;\n",
              "      fill: #D2E3FC;\n",
              "    }\n",
              "\n",
              "    [theme=dark] .colab-df-convert:hover {\n",
              "      background-color: #434B5C;\n",
              "      box-shadow: 0px 1px 3px 1px rgba(0, 0, 0, 0.15);\n",
              "      filter: drop-shadow(0px 1px 2px rgba(0, 0, 0, 0.3));\n",
              "      fill: #FFFFFF;\n",
              "    }\n",
              "  </style>\n",
              "\n",
              "    <script>\n",
              "      const buttonEl =\n",
              "        document.querySelector('#df-034aed5c-e496-4f6c-a2dc-96a1db5c9baa button.colab-df-convert');\n",
              "      buttonEl.style.display =\n",
              "        google.colab.kernel.accessAllowed ? 'block' : 'none';\n",
              "\n",
              "      async function convertToInteractive(key) {\n",
              "        const element = document.querySelector('#df-034aed5c-e496-4f6c-a2dc-96a1db5c9baa');\n",
              "        const dataTable =\n",
              "          await google.colab.kernel.invokeFunction('convertToInteractive',\n",
              "                                                    [key], {});\n",
              "        if (!dataTable) return;\n",
              "\n",
              "        const docLinkHtml = 'Like what you see? Visit the ' +\n",
              "          '<a target=\"_blank\" href=https://colab.research.google.com/notebooks/data_table.ipynb>data table notebook</a>'\n",
              "          + ' to learn more about interactive tables.';\n",
              "        element.innerHTML = '';\n",
              "        dataTable['output_type'] = 'display_data';\n",
              "        await google.colab.output.renderOutput(dataTable, element);\n",
              "        const docLink = document.createElement('div');\n",
              "        docLink.innerHTML = docLinkHtml;\n",
              "        element.appendChild(docLink);\n",
              "      }\n",
              "    </script>\n",
              "  </div>\n",
              "\n",
              "\n",
              "    <div id=\"df-e3e847bc-bc01-4d73-b6dc-9e50835b9e68\">\n",
              "      <button class=\"colab-df-quickchart\" onclick=\"quickchart('df-e3e847bc-bc01-4d73-b6dc-9e50835b9e68')\"\n",
              "                title=\"Suggest charts\"\n",
              "                style=\"display:none;\">\n",
              "\n",
              "<svg xmlns=\"http://www.w3.org/2000/svg\" height=\"24px\"viewBox=\"0 0 24 24\"\n",
              "     width=\"24px\">\n",
              "    <g>\n",
              "        <path d=\"M19 3H5c-1.1 0-2 .9-2 2v14c0 1.1.9 2 2 2h14c1.1 0 2-.9 2-2V5c0-1.1-.9-2-2-2zM9 17H7v-7h2v7zm4 0h-2V7h2v10zm4 0h-2v-4h2v4z\"/>\n",
              "    </g>\n",
              "</svg>\n",
              "      </button>\n",
              "\n",
              "<style>\n",
              "  .colab-df-quickchart {\n",
              "      --bg-color: #E8F0FE;\n",
              "      --fill-color: #1967D2;\n",
              "      --hover-bg-color: #E2EBFA;\n",
              "      --hover-fill-color: #174EA6;\n",
              "      --disabled-fill-color: #AAA;\n",
              "      --disabled-bg-color: #DDD;\n",
              "  }\n",
              "\n",
              "  [theme=dark] .colab-df-quickchart {\n",
              "      --bg-color: #3B4455;\n",
              "      --fill-color: #D2E3FC;\n",
              "      --hover-bg-color: #434B5C;\n",
              "      --hover-fill-color: #FFFFFF;\n",
              "      --disabled-bg-color: #3B4455;\n",
              "      --disabled-fill-color: #666;\n",
              "  }\n",
              "\n",
              "  .colab-df-quickchart {\n",
              "    background-color: var(--bg-color);\n",
              "    border: none;\n",
              "    border-radius: 50%;\n",
              "    cursor: pointer;\n",
              "    display: none;\n",
              "    fill: var(--fill-color);\n",
              "    height: 32px;\n",
              "    padding: 0;\n",
              "    width: 32px;\n",
              "  }\n",
              "\n",
              "  .colab-df-quickchart:hover {\n",
              "    background-color: var(--hover-bg-color);\n",
              "    box-shadow: 0 1px 2px rgba(60, 64, 67, 0.3), 0 1px 3px 1px rgba(60, 64, 67, 0.15);\n",
              "    fill: var(--button-hover-fill-color);\n",
              "  }\n",
              "\n",
              "  .colab-df-quickchart-complete:disabled,\n",
              "  .colab-df-quickchart-complete:disabled:hover {\n",
              "    background-color: var(--disabled-bg-color);\n",
              "    fill: var(--disabled-fill-color);\n",
              "    box-shadow: none;\n",
              "  }\n",
              "\n",
              "  .colab-df-spinner {\n",
              "    border: 2px solid var(--fill-color);\n",
              "    border-color: transparent;\n",
              "    border-bottom-color: var(--fill-color);\n",
              "    animation:\n",
              "      spin 1s steps(1) infinite;\n",
              "  }\n",
              "\n",
              "  @keyframes spin {\n",
              "    0% {\n",
              "      border-color: transparent;\n",
              "      border-bottom-color: var(--fill-color);\n",
              "      border-left-color: var(--fill-color);\n",
              "    }\n",
              "    20% {\n",
              "      border-color: transparent;\n",
              "      border-left-color: var(--fill-color);\n",
              "      border-top-color: var(--fill-color);\n",
              "    }\n",
              "    30% {\n",
              "      border-color: transparent;\n",
              "      border-left-color: var(--fill-color);\n",
              "      border-top-color: var(--fill-color);\n",
              "      border-right-color: var(--fill-color);\n",
              "    }\n",
              "    40% {\n",
              "      border-color: transparent;\n",
              "      border-right-color: var(--fill-color);\n",
              "      border-top-color: var(--fill-color);\n",
              "    }\n",
              "    60% {\n",
              "      border-color: transparent;\n",
              "      border-right-color: var(--fill-color);\n",
              "    }\n",
              "    80% {\n",
              "      border-color: transparent;\n",
              "      border-right-color: var(--fill-color);\n",
              "      border-bottom-color: var(--fill-color);\n",
              "    }\n",
              "    90% {\n",
              "      border-color: transparent;\n",
              "      border-bottom-color: var(--fill-color);\n",
              "    }\n",
              "  }\n",
              "</style>\n",
              "\n",
              "      <script>\n",
              "        async function quickchart(key) {\n",
              "          const quickchartButtonEl =\n",
              "            document.querySelector('#' + key + ' button');\n",
              "          quickchartButtonEl.disabled = true;  // To prevent multiple clicks.\n",
              "          quickchartButtonEl.classList.add('colab-df-spinner');\n",
              "          try {\n",
              "            const charts = await google.colab.kernel.invokeFunction(\n",
              "                'suggestCharts', [key], {});\n",
              "          } catch (error) {\n",
              "            console.error('Error during call to suggestCharts:', error);\n",
              "          }\n",
              "          quickchartButtonEl.classList.remove('colab-df-spinner');\n",
              "          quickchartButtonEl.classList.add('colab-df-quickchart-complete');\n",
              "        }\n",
              "        (() => {\n",
              "          let quickchartButtonEl =\n",
              "            document.querySelector('#df-e3e847bc-bc01-4d73-b6dc-9e50835b9e68 button');\n",
              "          quickchartButtonEl.style.display =\n",
              "            google.colab.kernel.accessAllowed ? 'block' : 'none';\n",
              "        })();\n",
              "      </script>\n",
              "    </div>\n",
              "\n",
              "    </div>\n",
              "  </div>\n"
            ],
            "application/vnd.google.colaboratory.intrinsic+json": {
              "type": "dataframe",
              "variable_name": "df_train",
              "summary": "{\n  \"name\": \"df_train\",\n  \"rows\": 800,\n  \"fields\": [\n    {\n      \"column\": \"texts\",\n      \"properties\": {\n        \"dtype\": \"string\",\n        \"num_unique_values\": 730,\n        \"samples\": [\n          \"Hal itu disampaikan merespons rencana pemerintah Malaysia yang ingin mengajukan kesenian Reog Ponorogo sebagai warisan\\nbudaya ke UNESCO\\u00a0PBB.\\n\\n\\\"Kami terus mengupayakan agar elemen budaya Indonesia tidak hanya mendapatkan status di tingkat Internasional. Namun,\\nyang terpenting adalah agar masyarakat Indonesia turut memberikan perhatian dan ikut melestarikan,\\\" kata Dirjen\\nKebudayaan Kemendikbudristek Hilmar Farid lewat keterangan tertulis, Senin (11/4).\\n\\nHilmar mengaku sudah menominasikan empat elemen budaya Indonesia untuk diajukan\\u00a0sebagai Warisan Budaya Takbenda (WBTb)\\nke UNESCO. Salah satunya adalah kesenian Reog Ponorogo asal Jawa Timur.\\n\\nHilmar lalu menjelaskan bahwa Konvensi WBTb UNESCO bertujuan untuk melestarikan WBTb sesuai dengan kesepakatan\\ninternasional. Bukan untuk mengabulkan klaim kepemilikan budaya oleh suatu negara.\\n\\nSelain itu, UNESCO juga tidak bisa menjamin semua elemen budaya yang dinominasikan oleh setiap negara akan lolos WBTb\\nUNESCO. Sebab, kata dia, sumber daya di UNESCO terbatas.\\n\\nMenurutnya, suatu negara hanya bisa mengusulkan satu nominasi per dua tahun untuk menginskripsikan elemen budayanya\\nsebagai WBTb Unesco.\\n\\n\\\"Sejak tahun 2016, Komite WBTb UNESCO mengatur batasan jumlah elemen budaya yang dapat diinskripsi sebagai WBTb UNESCO,\\nyaitu 50 elemen budaya saja per tahun dari 193 Negara Anggota UNESCO,\\\" ujarnya.\\n\\nSaat ini ada 12 warisan budaya tak benda asal Indonesia yang telah diakui UNESCO\\u00a0PBB antara lain wayang (2008), keris\\n(2008), batik (2009), pendidikan dan pelatihan batik (2009).\\n\\nKemudian, angklung (2010), tari Saman (2011), Noken (2012), Tiga genre tari Bal (2015), Seni pembuatan kapal Pinisi\\n(2017), tradisi pencak silat (2019), pantun (2019) serta gamelan (2021).\\n\\nSebelumnya, Menko Pembangunan Manusia dan Kebudayaan Muhadjir Effendy menyebut pemerintah Malaysia berencana mengajukan\\nkesenian Reog sebagai kebudayaan negaranya ke UNESCO\\u00a0PBB.\\n\\nHal ini membuat seniman Reog di Ponorogo turun ke jalan. Mereka menuntut pemerintah segera mendaftarkan Reog ke\\nUNESCO\\u00a0PBB sebagai warisan budaya Indonesia.\\n\\n\",\n          \"\\\"IKN Nusantara akan menerapkan konsepsmart citymodern yang berbeda dengan kota-kota lain di Indonesia dan negara lain,\\\"\\nkata Budi dalam keterangan tertulis di Jakarta, dikutip Antara, Jumat (18/2).\\n\\nBudi menjelaskan Kota Nusantara\\u00a0sebagai representasi masyarakat Indonesia yang berkembang lebih modern, kemudian pola\\nberpikir memanfaatkan teknologi yang efisien dan nyaman serta meneruskan warisan budaya Indonesia.\\n\\n\\\"Konsep yang diusung akan berbeda. Letak geografis di IKN Nusantara memang perbukitan. Akan tetapi, akan diubah menjadi\\nlebih indah dan hijau berkelanjutan,\\\" kata Budi.\\n\\nIa menyebutkan sejumlah pembangunan fasilitas infrastruktur seperti tol, gedung dengan konsep smart city disertai taman-\\ntaman hijau untuk rekreasi sekaligus penata air. Nusantara akan dibuat menjadi kota modern.\\n\\nBudi mengakui bahwa ibu kota baru di Penajam Paser Utara merupakan daerah perbukitan. Saat ini akses menuju ke lokasi\\ntersebut dari Kota Balikpapan harus ditempuh dengan 2,5 jam perjalanan. Namun, nantinya maksimal 1 jam.\\n\\nPembangunan tol hingga transportasi umum yang memadai dengan konsep modern akan dibangun untuk menunjang IKN Nusantara\\ntanpa menghilangkan kearifan lokal.\\n\\n\\\"Di atas lahan seluas 256.000 hektare, IKN Nusantara akan dibangun dengan konsep modern. Akan tetapi, tak menghilangkan\\nesensi dari kota hutan (forest city). Pemerintah juga tidak akan menghilangkan kearifan lokal Kaltim,\\\" kata Budi.\\n\\nBudi Gunawan menegaskan bahwa pembangunan IKN Nusantara tidak akan berdampak negatif pada ekosistem Teluk Balikpapan dan\\ndampak negatif lain juga dimitigasi dengan baik.\\n\\nIa memastikan pembangunan IKN Nusantara tidak menghilangkan 'harta karun' alam dan budaya di Kalimantan Timur.\\n\\n\\\"Sebagian besar lahan IKN adalah hutan. Sebanyak 20 persen yang akan dibangun untuk ibu kota. Sisanya akan kita jaga.\\nJustru ini akan perluas, kami perbaiki akan hutan yang rusak tidak mengalami ancaman banjir dan abrasi,\\\" jelas Budi.\\n\\nSementara itu, Rektor Universitas Balikpapan (Uniba) Irsadi Zainal mengaku gembira dengan pengesahan Undang-Undang Ibu\\nKota Negara (IKN).\\n\\n\\\"Kami mau meneguhkan keputusan politik Bapak Presiden Jokowi dan DPR RI dalam penetapan keputusan UU IKN Nusantara ini.\\nTentunya kami menyambut ini dengan penuh sukacita dan bersyukur,\\\" kata Irshadi.\\n\\n\",\n          \"Rumah Batik Serasan merupakan salah satu rumah produksi batik khas Kabupaten Muara Enim, Sumatera Selatan. Berawal dari\\nsikap peduli terhadap warisan budaya, Pemilik Rumah Batik Serasan Totok Adi Hermanto terinspirasi untuk membuat batik\\nyang memiliki simbol adat Kabupaten Muara Enim.\\n\\n\"\n        ],\n        \"semantic_type\": \"\",\n        \"description\": \"\"\n      }\n    },\n    {\n      \"column\": \"sentence\",\n      \"properties\": {\n        \"dtype\": \"string\",\n        \"num_unique_values\": 793,\n        \"samples\": [\n          \"Budaya kita sebagai contoh pencak silat bela diri warisan nenek moyang kita, saya sendiri\\nsudah 37 tahun mengurusi pencak silat.\",\n          \"Jakarta (ANTARA) - Direktur Jendral Kebudayaan Kementerian Pendidikan, Kebudayaan, Riset dan Teknologi\\n(Kemendikbudristek) Hilmar Farid mengatakan mempelajari sejarah dan warisan budaya penting untuk diwariskan dari masa ke\\nmasa karena masih relevan dengan kehidupan manusia saat ini.\",\n          \"Rumah adat Uma Lengge juga menjadi situs warisan budaya dari para leluhur suku Mbojo.\"\n        ],\n        \"semantic_type\": \"\",\n        \"description\": \"\"\n      }\n    },\n    {\n      \"column\": \"intangible\",\n      \"properties\": {\n        \"dtype\": \"number\",\n        \"std\": 0,\n        \"min\": 0,\n        \"max\": 1,\n        \"num_unique_values\": 2,\n        \"samples\": [\n          0,\n          1\n        ],\n        \"semantic_type\": \"\",\n        \"description\": \"\"\n      }\n    },\n    {\n      \"column\": \"tangible\",\n      \"properties\": {\n        \"dtype\": \"number\",\n        \"std\": 0,\n        \"min\": 0,\n        \"max\": 1,\n        \"num_unique_values\": 2,\n        \"samples\": [\n          1,\n          0\n        ],\n        \"semantic_type\": \"\",\n        \"description\": \"\"\n      }\n    },\n    {\n      \"column\": \"places\",\n      \"properties\": {\n        \"dtype\": \"number\",\n        \"std\": 0,\n        \"min\": 0,\n        \"max\": 1,\n        \"num_unique_values\": 2,\n        \"samples\": [\n          1,\n          0\n        ],\n        \"semantic_type\": \"\",\n        \"description\": \"\"\n      }\n    }\n  ]\n}"
            }
          },
          "metadata": {},
          "execution_count": 5
        }
      ],
      "source": [
        "df_train.head()"
      ]
    },
    {
      "cell_type": "markdown",
      "id": "99369664",
      "metadata": {
        "id": "99369664"
      },
      "source": [
        "### Soal 1.1 (2 poin)\n",
        "\n",
        "Jika model memprediksi semua label sebagai 1, berapa nilai akurasinya?"
      ]
    },
    {
      "cell_type": "code",
      "source": [
        "y_train = df_train[\"tangible\"]\n",
        "\n",
        "accuracy_if_all_ones = y_train.mean()\n",
        "print(f\"Akurasi jika semua prediksi = 1: {accuracy_if_all_ones:.2%}\")"
      ],
      "metadata": {
        "colab": {
          "base_uri": "https://localhost:8080/"
        },
        "id": "y_xo-FMd8XDI",
        "outputId": "57dfa5ae-8744-41e4-c151-465317392f6a"
      },
      "id": "y_xo-FMd8XDI",
      "execution_count": null,
      "outputs": [
        {
          "output_type": "stream",
          "name": "stdout",
          "text": [
            "Akurasi jika semua prediksi = 1: 44.38%\n"
          ]
        }
      ]
    },
    {
      "cell_type": "markdown",
      "source": [
        "Akurasi dari model yang memprediksi semua label sebagai 1 dapat dihitung berdasarkan proporsi label 1 dalam dataset latih. Akurasi dihitung dengan membandingkan jumlah prediksi yang benar (label 1 yang diprediksi sebagai 1) terhadap total data"
      ],
      "metadata": {
        "id": "ObhdRGfGZ3qx"
      },
      "id": "ObhdRGfGZ3qx"
    },
    {
      "cell_type": "markdown",
      "id": "06f3b310",
      "metadata": {
        "id": "06f3b310"
      },
      "source": [
        "### Soal 1.2 (2 poin)\n",
        "\n",
        "Gunakan model multinomial Naive Bayes untuk memprediksi label dari data latih.\n",
        "\n",
        "*Petunjuk: Representasi fitur seperti apa yang akan memaksimalkan akurasi model multinomial Naive Bayes?*"
      ]
    },
    {
      "cell_type": "code",
      "execution_count": null,
      "id": "dc9f9343",
      "metadata": {
        "colab": {
          "base_uri": "https://localhost:8080/"
        },
        "id": "dc9f9343",
        "outputId": "e8664c83-0d59-4ae5-be93-accc1325492d"
      },
      "outputs": [
        {
          "output_type": "stream",
          "name": "stdout",
          "text": [
            "Akurasi = 97.00%\n"
          ]
        }
      ],
      "source": [
        "from sklearn.feature_extraction.text import CountVectorizer\n",
        "from sklearn.naive_bayes import MultinomialNB\n",
        "from sklearn.metrics import accuracy_score\n",
        "\n",
        "vectorizer = CountVectorizer()\n",
        "X_train = vectorizer.fit_transform(df_train[\"texts\"])\n",
        "y_train = df_train[\"tangible\"]\n",
        "\n",
        "model_nb = MultinomialNB()\n",
        "model_nb.fit(X_train, y_train)\n",
        "y_pred = model_nb.predict(X_train)\n",
        "\n",
        "print(f\"Akurasi = {accuracy_score(y_train, y_pred):.2%}\")\n",
        "\n",
        "assert accuracy_score(y_train, y_pred) >= 0.95"
      ]
    },
    {
      "cell_type": "markdown",
      "id": "f768d712",
      "metadata": {
        "id": "f768d712"
      },
      "source": [
        "### Soal 1.3.a (2 poin)\n",
        "\n",
        "Gunakan model regresi logistik untuk memprediksi label dari data latih. Gunakan representasi TF-IDF sebagai fitur dari model."
      ]
    },
    {
      "cell_type": "code",
      "execution_count": null,
      "id": "b57dac9b",
      "metadata": {
        "colab": {
          "base_uri": "https://localhost:8080/"
        },
        "id": "b57dac9b",
        "outputId": "7e6a84b2-285d-4974-8dbe-9ccc5eb576b3"
      },
      "outputs": [
        {
          "output_type": "stream",
          "name": "stdout",
          "text": [
            "Akurasi = 95.00%\n"
          ]
        }
      ],
      "source": [
        "from sklearn.feature_extraction.text import TfidfVectorizer\n",
        "from sklearn.linear_model import LogisticRegression\n",
        "\n",
        "tfidf = TfidfVectorizer()\n",
        "X_train_tfidf = tfidf.fit_transform(df_train[\"texts\"])\n",
        "\n",
        "model_lr = LogisticRegression(max_iter=1000)\n",
        "model_lr.fit(X_train_tfidf, y_train)\n",
        "y_pred_lr = model_lr.predict(X_train_tfidf)\n",
        "\n",
        "print(f\"Akurasi = {accuracy_score(y_train, y_pred_lr):.2%}\")\n",
        "\n",
        "assert accuracy_score(y_train, y_pred) >= 0.95"
      ]
    },
    {
      "cell_type": "markdown",
      "id": "f0c38b52",
      "metadata": {
        "id": "f0c38b52"
      },
      "source": [
        "### Soal 1.3.b (2 poin)\n",
        "\n",
        "Tampilkan lima fitur (i.e. kata) dengan koefisien paling tinggi dari model regresi logistik. Sertakan nilai koefisiennya."
      ]
    },
    {
      "cell_type": "code",
      "execution_count": null,
      "id": "673a914a",
      "metadata": {
        "colab": {
          "base_uri": "https://localhost:8080/"
        },
        "id": "673a914a",
        "outputId": "fdc6aca5-f527-4123-a00a-8289219d38d7"
      },
      "outputs": [
        {
          "output_type": "stream",
          "name": "stdout",
          "text": [
            "fitur: 'situs' - Koefisien: 2.1287\n",
            "fitur: 'museum' - Koefisien: 1.8805\n",
            "fitur: 'candi' - Koefisien: 1.6887\n",
            "fitur: 'cagar' - Koefisien: 1.5028\n",
            "fitur: 'bangunan' - Koefisien: 1.3181\n"
          ]
        }
      ],
      "source": [
        "feature_names = tfidf.get_feature_names_out()\n",
        "coefs = model_lr.coef_[0]\n",
        "top5 = np.argsort(coefs)[-5:]\n",
        "\n",
        "for i in reversed(top5):\n",
        "    print(f\"fitur: '{feature_names[i]}' - Koefisien: {coefs[i]:.4f}\")"
      ]
    },
    {
      "cell_type": "markdown",
      "id": "b404a3f1",
      "metadata": {
        "id": "b404a3f1"
      },
      "source": [
        "### Soal 1.3.c (2 poin)\n",
        "\n",
        "Tampilkan lima fitur (i.e. kata) dengan koefisien paling rendah dari model regresi logistik. Sertakan nilai koefisiennya."
      ]
    },
    {
      "cell_type": "code",
      "execution_count": null,
      "id": "84475507",
      "metadata": {
        "colab": {
          "base_uri": "https://localhost:8080/"
        },
        "id": "84475507",
        "outputId": "632dca4c-e6ab-4bde-b208-143bd768bd7f"
      },
      "outputs": [
        {
          "output_type": "stream",
          "name": "stdout",
          "text": [
            "Fitur: 'jamu' - Koefisien: -1.2698\n",
            "Fitur: 'batik' - Koefisien: -1.2098\n",
            "Fitur: 'takbenda' - Koefisien: -1.1195\n",
            "Fitur: 'wayang' - Koefisien: -1.1153\n",
            "Fitur: 'tenun' - Koefisien: -1.0875\n"
          ]
        }
      ],
      "source": [
        "bottom5 = np.argsort(coefs)[:5]\n",
        "\n",
        "for i in bottom5:\n",
        "    print(f\"Fitur: '{feature_names[i]}' - Koefisien: {coefs[i]:.4f}\")"
      ]
    },
    {
      "cell_type": "markdown",
      "id": "a2ea9caa",
      "metadata": {
        "id": "a2ea9caa"
      },
      "source": [
        "### Soal 1.4 (2 poin)\n",
        "\n",
        "Prediksi data uji menggunakan model yang dihasilkan di soal 1.2 dan 1.3. Laporkan akurasinya."
      ]
    },
    {
      "cell_type": "code",
      "execution_count": null,
      "id": "7929c869",
      "metadata": {
        "colab": {
          "base_uri": "https://localhost:8080/"
        },
        "id": "7929c869",
        "outputId": "6e1c85e5-f5f0-4d91-eea4-f5b8f6f565bc"
      },
      "outputs": [
        {
          "output_type": "stream",
          "name": "stdout",
          "text": [
            "Akurasi Naive Bayes = 86.50%\n",
            "Akurasi Logistic Regression = 84.00%\n"
          ]
        }
      ],
      "source": [
        "X_test_nb = vectorizer.transform(df_test[\"texts\"])\n",
        "X_test_tfidf = tfidf.transform(df_test[\"texts\"])\n",
        "y_test = df_test[\"tangible\"]\n",
        "\n",
        "y_pred_test_nb = model_nb.predict(X_test_nb)\n",
        "y_pred_test_lr = model_lr.predict(X_test_tfidf)\n",
        "\n",
        "print(f\"Akurasi Naive Bayes = {accuracy_score(y_test, y_pred_test_nb):.2%}\")\n",
        "print(f\"Akurasi Logistic Regression = {accuracy_score(y_test, y_pred_test_lr):.2%}\")"
      ]
    },
    {
      "cell_type": "markdown",
      "id": "f99a5176",
      "metadata": {
        "id": "f99a5176"
      },
      "source": [
        "### Soal 1.5 (3 poin)\n",
        "\n",
        "Berikan kesimpulan dari analisis yang sudah dilakukan di soal 1 ini."
      ]
    },
    {
      "cell_type": "markdown",
      "id": "d2c1b2b6",
      "metadata": {
        "id": "d2c1b2b6"
      },
      "source": [
        "dari analisis, model naive bayes dan logistic regression diatas, sama-sama memberikan hasil akurasi yang  tinggi (≥ 95%) di data latih. logistic regression dengan fitur TF-IDF memberikan interpretabilitas tambahan melalui koefisien fitur yang menunjukkan kata-kata penting dalam menentukan kelas text. pada data uji, logistic regression sedikit lebih unggul dibanding naive bayes, menandakan bahwa pemodelan berbasis bobot (TF-IDF + LR) lebih generalisasi dan karna itu, model logistic regression lebih cocok digunakan untuk tugas klasifikasi data teks ini"
      ]
    },
    {
      "cell_type": "markdown",
      "id": "f4c8f4cb",
      "metadata": {
        "id": "f4c8f4cb"
      },
      "source": [
        "## 2. Implementasi Optimasi (25 poin)\n",
        "\n",
        "Anda akan mencoba membuat sendiri model regresi logistik dan metode optimasinya. Harapannya, akurasi dari berbagai model yang Anda hasilkan tidak akan berbeda jauh. Untuk memudahkan pencarian gradien, Anda akan mencoba library [JAX](https://jax.readthedocs.io/en/latest/notebooks/quickstart.html). Secara umum, komponen JAX yang digunakan di sini hanyalah implementasi NumPy di bawah JAX yang memungkinkan autograd - pencarian gradien otomatis.\n",
        "\n",
        "**Catatan: Dalam notebook ini, ada dua implementasi NumPy yang dipakai. `np` untuk NumPy asli, `jnp` untuk NumPy dari JAX. Metode yang Anda temukan di NumPy juga dapat ditemukan di NumPy dari JAX. Jika implementasi diminta dalam JAX, maka akan ada tanda [JAX] di soal.**"
      ]
    },
    {
      "cell_type": "code",
      "execution_count": null,
      "id": "312de24a",
      "metadata": {
        "colab": {
          "base_uri": "https://localhost:8080/"
        },
        "id": "312de24a",
        "outputId": "2c8752eb-c970-4f84-ffb8-0bc013951d11"
      },
      "outputs": [
        {
          "output_type": "stream",
          "name": "stdout",
          "text": [
            "Requirement already satisfied: jax in /usr/local/lib/python3.11/dist-packages (0.5.2)\n",
            "Requirement already satisfied: jaxlib<=0.5.2,>=0.5.1 in /usr/local/lib/python3.11/dist-packages (from jax) (0.5.1)\n",
            "Requirement already satisfied: ml_dtypes>=0.4.0 in /usr/local/lib/python3.11/dist-packages (from jax) (0.4.1)\n",
            "Requirement already satisfied: numpy>=1.25 in /usr/local/lib/python3.11/dist-packages (from jax) (2.0.2)\n",
            "Requirement already satisfied: opt_einsum in /usr/local/lib/python3.11/dist-packages (from jax) (3.4.0)\n",
            "Requirement already satisfied: scipy>=1.11.1 in /usr/local/lib/python3.11/dist-packages (from jax) (1.15.3)\n"
          ]
        }
      ],
      "source": [
        "!pip install jax"
      ]
    },
    {
      "cell_type": "code",
      "execution_count": null,
      "id": "a1547100",
      "metadata": {
        "id": "a1547100"
      },
      "outputs": [],
      "source": [
        "from jax import numpy as jnp\n",
        "from jax import grad"
      ]
    },
    {
      "cell_type": "markdown",
      "id": "9d233723",
      "metadata": {
        "id": "9d233723"
      },
      "source": [
        "### Soal 2.1 (2 poin)\n",
        "\n",
        "Bagian penting dari regresi logistik adalah fungsi logistik atau sigmoid. Implementasikan kode dari fungsi sigmoid **[JAX]**. Fungsi sigmoid didefinisikan sebagai:\n",
        "\n",
        "\\begin{equation}\n",
        "\\sigma(x) = \\frac{1}{1 + \\exp(-x)} \\tag{1}\n",
        "\\end{equation}"
      ]
    },
    {
      "cell_type": "code",
      "execution_count": null,
      "id": "518180b6",
      "metadata": {
        "id": "518180b6"
      },
      "outputs": [],
      "source": [
        "def sigmoid(x):\n",
        "    return 1 / (1 + jnp.exp(-x))\n",
        "\n",
        "assert sigmoid(0) == 0.5\n",
        "assert np.isclose(sigmoid(-np.inf), 0)\n",
        "assert np.isclose(sigmoid(np.inf), 1)"
      ]
    },
    {
      "cell_type": "markdown",
      "id": "c34b9e40",
      "metadata": {
        "id": "c34b9e40"
      },
      "source": [
        "### Soal 2.2 (2 poin)\n",
        "\n",
        "Definisikan fungsi untuk memprediksi $y$ berdasarkan keluaran dari fungsi sigmoid seperti rumus di bawah ini **[JAX]**:\n",
        "\n",
        "\\begin{equation}\n",
        "\\hat{y} = \\sigma(\\mathbf{w} \\cdot \\mathbf{x} + b) \\tag{2}\n",
        "\\end{equation}\n",
        "\n",
        "Anda dapat menggunakan fungsi yang didefinisikan pada soal 2.1.\n",
        "\n",
        "*Perhatikan bahwa komponen bias dalam fungsi ini dipisahkan, tidak disatukan dengan vektor $\\mathbf{w}$.*"
      ]
    },
    {
      "cell_type": "code",
      "execution_count": null,
      "id": "c82de1d4",
      "metadata": {
        "id": "c82de1d4"
      },
      "outputs": [],
      "source": [
        "def predict(X, w, b):\n",
        "    return sigmoid(jnp.dot(X, w) + b)\n",
        "\n",
        "X = np.array([[0, 0], [0, 0]])\n",
        "w = np.array([1, 1])\n",
        "b = 0.0\n",
        "assert np.allclose(predict(X, w, b), np.array([0.5, 0.5]))"
      ]
    },
    {
      "cell_type": "markdown",
      "id": "e6bb4adc",
      "metadata": {
        "id": "e6bb4adc"
      },
      "source": [
        "### Soal 2.3.a (2 poin)\n",
        "\n",
        "Komponen penting lainnya dalam regresi logistik adalah mendefinisikan fungsi error. Dalam hal ini, Anda akan menggunakan fungsi *negative log likelihood* sebagai fungsi error, i.e. $E(\\mathbf{w}) = -\\mathcal{L}(\\mathbf{w})$. Log likelihood function didefinisikan sebagai:\n",
        "\n",
        "\\begin{equation}\n",
        "\\mathcal{L}(w) = \\sum_{i=1}^N y_i \\log \\hat{y}_i + (1-y_i) \\log (1 - \\hat{y}_i)\n",
        "\\tag{3}\n",
        "\\end{equation}\n",
        "\n",
        "Implementasikan fungsi $E(\\mathbf{w})$ **[JAX]**. Anda dapat memanfaatkan implementasi dari soal 2.2."
      ]
    },
    {
      "cell_type": "code",
      "execution_count": null,
      "id": "27a9204f",
      "metadata": {
        "id": "27a9204f"
      },
      "outputs": [],
      "source": [
        "def negative_log_likelihood(X, y, w, b):\n",
        "    y_hat = predict(X, w, b)\n",
        "    eps = 1e-7\n",
        "    y_hat = jnp.clip(y_hat, eps, 1 - eps)\n",
        "    return -jnp.sum(y * jnp.log(y_hat) + (1 - y) * jnp.log(1 - y_hat))"
      ]
    },
    {
      "cell_type": "markdown",
      "id": "cfed25e5",
      "metadata": {
        "id": "cfed25e5"
      },
      "source": [
        "### Soal 2.3.b (2 poin)\n",
        "\n",
        "Kita akan mencoba membandingkan hasil dari autograd dengan implementasi manual. Autograd adalah implementasi metode diferensiasi otomatis jika diberikan suatu fungsi.\n",
        "\n",
        "Turunan dari fungsi pada persamaan (3) terhadap *bias* adalah:\n",
        "\n",
        "\\begin{equation}\n",
        "\\frac{\\partial E}{\\partial b} = -\\sum_{i=1}^N (y_i - \\hat{y}_i)\n",
        "\\tag{4}\n",
        "\\end{equation}\n",
        "\n",
        "Implementasikan fungsi `grad_nll` di bawah ini. Kode di cell berikutnya adalah untuk membandingkan antara implementasi Anda dengan autograd dari JAX. Anda dapat memanfaatkan implementasi dari soal 2.2."
      ]
    },
    {
      "cell_type": "code",
      "execution_count": null,
      "id": "edc0ca01",
      "metadata": {
        "id": "edc0ca01"
      },
      "outputs": [],
      "source": [
        "def grad_nll(X, y, w, b):\n",
        "    y_hat = predict(X, w, b)\n",
        "    return -jnp.sum(y - y_hat)"
      ]
    },
    {
      "cell_type": "code",
      "source": [
        "# Pengujian implementasi - jangan diubah\n",
        "\n",
        "vec = TfidfVectorizer(max_features=1000)\n",
        "X_train = vec.fit_transform(df_train[\"texts\"]).todense()\n",
        "y_train = df_train[\"tangible\"].values\n",
        "\n",
        "np.random.seed(42)\n",
        "\n",
        "ndim = X_train.shape[1]\n",
        "w = np.random.randn(ndim) # inisialisasi acak\n",
        "b = np.zeros(1) # inisialisasi\n",
        "\n",
        "manual_grad = grad_nll(\n",
        "    X_train,\n",
        "    y_train,\n",
        "    w,\n",
        "    b\n",
        ")\n",
        "grad_loss = grad(negative_log_likelihood, 3) # grad = autograd dari JAX\n",
        "auto_grad = grad_loss(\n",
        "    X_train,\n",
        "    y_train,\n",
        "    w,\n",
        "    b\n",
        ")\n",
        "# argumen \"3\" menunjukkan fungsi akan diturunkan terhadap parameter di indeks 3, yaitu b\n",
        "assert np.isclose(manual_grad, auto_grad, rtol=1e-1)\n",
        "\n",
        "# Jika tidak terjadi apa-apa, berarti implementasi Anda sudah benar"
      ],
      "metadata": {
        "id": "yE49ae5nTw_p"
      },
      "id": "yE49ae5nTw_p",
      "execution_count": null,
      "outputs": []
    },
    {
      "cell_type": "markdown",
      "id": "71d1242e",
      "metadata": {
        "id": "71d1242e"
      },
      "source": [
        "### Soal 2.4 (5 poin)\n",
        "\n",
        "Untuk melatih regresi logistik, Anda dapat menggunakan metode *gradient descent*. Lengkapi fungsi di bawah ini."
      ]
    },
    {
      "cell_type": "code",
      "execution_count": null,
      "id": "893ef7cb",
      "metadata": {
        "id": "893ef7cb"
      },
      "outputs": [],
      "source": [
        "from tqdm import tqdm\n",
        "from sklearn.metrics import accuracy_score\n",
        "\n",
        "def fit(X, y, epoch=1000, eta=1e-3):\n",
        "    np.random.seed(42)\n",
        "    n = X.shape[0]\n",
        "    ndim = X.shape[1]\n",
        "    w = np.random.randn(ndim)\n",
        "    b = np.ones(1)\n",
        "    # Autograd untuk w dan b\n",
        "    grad_loss_w = grad(negative_log_likelihood, 2)\n",
        "    grad_loss_b = grad(negative_log_likelihood, 3)\n",
        "\n",
        "    accs = []\n",
        "    losses = []\n",
        "    for i in tqdm(range(epoch)):\n",
        "        y_pred = predict(X, w, b)\n",
        "        acc = accuracy_score(y, y_pred >= 0.5)\n",
        "        loss = negative_log_likelihood(X, y, w, b)\n",
        "        accs.append(acc)\n",
        "        losses.append(loss)\n",
        "        # Update w dan b\n",
        "        w = w - eta * grad_loss_w(X, y, w, b)\n",
        "        b = b - eta * grad_loss_b(X, y, w, b)\n",
        "    return w, b, accs, losses\n"
      ]
    },
    {
      "cell_type": "markdown",
      "id": "419363f9",
      "metadata": {
        "id": "419363f9"
      },
      "source": [
        "### Soal 2.5.a (1 poin)\n",
        "\n",
        "Latihlah model dengan `X_train` dan `y_train` menggunakan fungsi `fit` dari soal 2.4."
      ]
    },
    {
      "cell_type": "code",
      "execution_count": null,
      "id": "a4824fb2",
      "metadata": {
        "colab": {
          "base_uri": "https://localhost:8080/"
        },
        "id": "a4824fb2",
        "outputId": "9c530bd8-3fbe-4041-c781-1b5c2edc201d"
      },
      "outputs": [
        {
          "output_type": "stream",
          "name": "stderr",
          "text": [
            "100%|██████████| 1000/1000 [00:33<00:00, 29.68it/s]\n"
          ]
        }
      ],
      "source": [
        "w, b, accs, losses = fit(X_train, y_train, epoch=1000, eta=1e-3)"
      ]
    },
    {
      "cell_type": "markdown",
      "id": "d787bf01",
      "metadata": {
        "id": "d787bf01"
      },
      "source": [
        "### Soal 2.5.b (2 poin)\n",
        "\n",
        "Gambarkan *learning curve* dari error dan akurasi dalam dua grafik bersebelahan."
      ]
    },
    {
      "cell_type": "code",
      "execution_count": null,
      "id": "a06ad4b5",
      "metadata": {
        "colab": {
          "base_uri": "https://localhost:8080/",
          "height": 507
        },
        "id": "a06ad4b5",
        "outputId": "1a6a7fc7-7609-42a1-82cd-3a009fce204f"
      },
      "outputs": [
        {
          "output_type": "display_data",
          "data": {
            "text/plain": [
              "<Figure size 1200x500 with 2 Axes>"
            ],
            "image/png": "[encoded data removed]"
          },
          "metadata": {}
        }
      ],
      "source": [
        "import matplotlib.pyplot as plt\n",
        "\n",
        "plt.figure(figsize=(12,5))\n",
        "plt.subplot(1,2,1)\n",
        "plt.plot(losses)\n",
        "plt.title('Learning Curve - Loss')\n",
        "plt.xlabel('Epoch')\n",
        "plt.ylabel('Loss')\n",
        "\n",
        "plt.subplot(1,2,2)\n",
        "plt.plot(accs)\n",
        "plt.title('Learning Curve - Accuracy')\n",
        "plt.xlabel('Epoch')\n",
        "plt.ylabel('Accuracy')\n",
        "\n",
        "plt.tight_layout()\n",
        "plt.show()"
      ]
    },
    {
      "cell_type": "markdown",
      "id": "682d16af",
      "metadata": {
        "id": "682d16af"
      },
      "source": [
        "### Soal 2.5.c (2 poin)\n",
        "\n",
        "Prediksi label dari data uji memanfaatkan nilai `w` dan `b` yang telah Anda dapatkan dari melatih model. Hitunglah akurasinya."
      ]
    },
    {
      "cell_type": "code",
      "execution_count": null,
      "id": "edbd2a57",
      "metadata": {
        "colab": {
          "base_uri": "https://localhost:8080/"
        },
        "id": "edbd2a57",
        "outputId": "ba7bc541-9efa-4a2e-82c8-25438a0f8fd3"
      },
      "outputs": [
        {
          "output_type": "stream",
          "name": "stdout",
          "text": [
            "Akurasi = 77.50%\n"
          ]
        }
      ],
      "source": [
        "from sklearn.feature_extraction.text import TfidfVectorizer\n",
        "\n",
        "vec = TfidfVectorizer(max_features=1000)\n",
        "X_train = vec.fit_transform(df_train[\"texts\"]).todense()  # matrix numerik\n",
        "X_test = vec.transform(df_test[\"texts\"]).todense()        # matrix numerik\n",
        "y_test_pred = predict(X_test, w, b) >= 0.5\n",
        "print(f\"Akurasi = {accuracy_score(y_test, y_test_pred):.2%}\")\n",
        "\n",
        "# assert accuracy_score(y_test, y_test_pred) >= 0.78"
      ]
    },
    {
      "cell_type": "markdown",
      "id": "8b39477f",
      "metadata": {
        "id": "8b39477f"
      },
      "source": [
        "### Soal 2.5.d (2 poin)\n",
        "\n",
        "Bandingkan hasil yang Anda dapatkan di soal 2.5.c dengan implementasi `SGDClassifier` dari scikit-learn. Gunakan `loss='log_loss'` sebagai parameter dari `SGDClassifier`. Hitung akurasi pada data uji."
      ]
    },
    {
      "cell_type": "code",
      "execution_count": null,
      "id": "23e93d3f",
      "metadata": {
        "colab": {
          "base_uri": "https://localhost:8080/"
        },
        "id": "23e93d3f",
        "outputId": "76c4f1e9-f80a-4b98-d90f-1bcb3794c510"
      },
      "outputs": [
        {
          "output_type": "stream",
          "name": "stdout",
          "text": [
            "Akurasi = 83.50%\n"
          ]
        }
      ],
      "source": [
        "from sklearn.linear_model import SGDClassifier\n",
        "\n",
        "X_train_array = np.asarray(X_train_array)\n",
        "X_test_array = np.asarray(X_test_array)\n",
        "clf = SGDClassifier(loss='log_loss', max_iter=1000, tol=1e-3, random_state=42)\n",
        "clf.fit(X_train_array, y_train)\n",
        "y_test_pred_sgd = clf.predict(X_test_array)\n",
        "print(f\"Akurasi = {accuracy_score(y_test, y_test_pred_sgd):.2%}\") # Use y_test_pred_sgd\n",
        "\n",
        "# assert accuracy_score(y_test, y_test_pred_sgd) >= 0.8 # Use y_test_pred_sgd"
      ]
    },
    {
      "cell_type": "markdown",
      "id": "6479b724",
      "metadata": {
        "id": "6479b724"
      },
      "source": [
        "### Soal 2.6 (5 poin)\n",
        "\n",
        "Berikan kesimpulan Anda dari eksperimen sejauh ini. Apa yang dapat menyebabkan perbedaan hasil akurasi dari model regresi logistik yang Anda implementasikan di soal 2.4 dan SGDClassifier di soal 2.5.d?"
      ]
    },
    {
      "cell_type": "markdown",
      "id": "83feec66",
      "metadata": {
        "id": "83feec66"
      },
      "source": [
        "Perbedaan akurasi antara model regresi logistik manual dan SGDClassifier bisa disebabkan oleh beberapa faktor, seperti perbedaan metode optimasi yang digunakan. Model manual menggunakan Gradient Descent yang sensitif terhadap pilihan hyperparameter seperti learning rate dan jumlah epoch, sedangkan SGDClassifier menggunakan Gradient Descent yang lebih stabil dan efisien. Selain itu, SGDClassifier secara otomatis menerapkan regularisasi dan pengaturan optimasi yang lebih canggih, yang membantu model lebih cepat konvergen dan mencegah overfitting, sementara model manual tidak. dan ssemua ini berkontribusi pada perbedaan hasil akurasi.\n"
      ]
    },
    {
      "cell_type": "markdown",
      "id": "a77e313b",
      "metadata": {
        "id": "a77e313b"
      },
      "source": [
        "## 3. Word2vec (20 poin)\n",
        "\n",
        "Di bagian ini, Anda akan mencoba melatih model word2vec dengan varian skipgram, lalu menggunakan embeddings yang dihasilkan untuk melakukan klasifikasi label seperti di soal-soal sebelumnya."
      ]
    },
    {
      "cell_type": "code",
      "execution_count": null,
      "id": "ad036525",
      "metadata": {
        "id": "ad036525",
        "colab": {
          "base_uri": "https://localhost:8080/"
        },
        "outputId": "b75cb3c7-70d7-4b2b-99c3-feceecc1154b"
      },
      "outputs": [
        {
          "output_type": "stream",
          "name": "stdout",
          "text": [
            "Collecting fasttext\n",
            "  Downloading fasttext-0.9.3.tar.gz (73 kB)\n",
            "\u001b[?25l     \u001b[90m━━━━━━━━━━━━━━━━━━━━━━━━━━━━━━━━━━━━━━━━\u001b[0m \u001b[32m0.0/73.4 kB\u001b[0m \u001b[31m?\u001b[0m eta \u001b[36m-:--:--\u001b[0m\r\u001b[2K     \u001b[90m━━━━━━━━━━━━━━━━━━━━━━━━━━━━━━━━━━━━━━━━\u001b[0m \u001b[32m73.4/73.4 kB\u001b[0m \u001b[31m6.2 MB/s\u001b[0m eta \u001b[36m0:00:00\u001b[0m\n",
            "\u001b[?25h  Installing build dependencies ... \u001b[?25l\u001b[?25hdone\n",
            "  Getting requirements to build wheel ... \u001b[?25l\u001b[?25hdone\n",
            "  Preparing metadata (pyproject.toml) ... \u001b[?25l\u001b[?25hdone\n",
            "Collecting pybind11>=2.2 (from fasttext)\n",
            "  Using cached pybind11-2.13.6-py3-none-any.whl.metadata (9.5 kB)\n",
            "Requirement already satisfied: setuptools>=0.7.0 in /usr/local/lib/python3.11/dist-packages (from fasttext) (75.2.0)\n",
            "Requirement already satisfied: numpy in /usr/local/lib/python3.11/dist-packages (from fasttext) (2.0.2)\n",
            "Using cached pybind11-2.13.6-py3-none-any.whl (243 kB)\n",
            "Building wheels for collected packages: fasttext\n",
            "  Building wheel for fasttext (pyproject.toml) ... \u001b[?25l\u001b[?25hdone\n",
            "  Created wheel for fasttext: filename=fasttext-0.9.3-cp311-cp311-linux_x86_64.whl size=4313501 sha256=28a007a91a3698c9c3eb26fbbd67401f56064babbaa4cc78cc57c73885b42858\n",
            "  Stored in directory: /root/.cache/pip/wheels/65/4f/35/5057db0249224e9ab55a513fa6b79451473ceb7713017823c3\n",
            "Successfully built fasttext\n",
            "Installing collected packages: pybind11, fasttext\n",
            "Successfully installed fasttext-0.9.3 pybind11-2.13.6\n"
          ]
        }
      ],
      "source": [
        "!pip install fasttext"
      ]
    },
    {
      "cell_type": "code",
      "execution_count": null,
      "id": "36971bda",
      "metadata": {
        "id": "36971bda"
      },
      "outputs": [],
      "source": [
        "(\n",
        "    df_train[\"texts\"]\n",
        "    .str.lower()\n",
        "    .str.replace(\"[^A-z ]\", \"\", regex=True)\n",
        "    .str.replace(\"  +\", \" \", regex=True)\n",
        "    .to_csv('/content/warisan-v1-train.txt', index=False)\n",
        ")"
      ]
    },
    {
      "cell_type": "markdown",
      "id": "7a0fd929",
      "metadata": {
        "id": "7a0fd929"
      },
      "source": [
        "### Soal 3.1 (2 poin)\n",
        "\n",
        "Latihlah model menggunakan metode skipgram secara unsupervised dari file teks yang dihasilkan oleh cell sebelumnya."
      ]
    },
    {
      "cell_type": "code",
      "execution_count": null,
      "id": "8dfba759",
      "metadata": {
        "id": "8dfba759"
      },
      "outputs": [],
      "source": [
        "import fasttext\n",
        "\n",
        "model = fasttext.train_unsupervised(\n",
        "    input=\"/content/warisan-v1-train.txt\",\n",
        "    model=\"skipgram\",\n",
        "    dim=100,\n",
        "    epoch=10,\n",
        "    lr=0.05\n",
        ")"
      ]
    },
    {
      "cell_type": "markdown",
      "id": "fc49ea9d",
      "metadata": {
        "id": "fc49ea9d"
      },
      "source": [
        "### Soal 3.2 (2 poin)\n",
        "\n",
        "Ambil matriks yang dihasilkan model yang telah dilatih, reduksi menjadi dua dimensi dengan menggunakan [t-SNE](https://scikit-learn.org/stable/modules/generated/sklearn.manifold.TSNE.html). Lalu visualisasikan kata-kata yang terlampir dalam *scatter plot* dua dimensi. Sertakan labelnya.\n",
        "\n",
        "*Petunjuk: Untuk visualisasi, akan lebih mudah untuk menggunakan [Plotly Express](https://plotly.com/python/line-and-scatter/).*"
      ]
    },
    {
      "cell_type": "code",
      "execution_count": null,
      "id": "99a76e97",
      "metadata": {
        "id": "99a76e97"
      },
      "outputs": [],
      "source": [
        "from sklearn.manifold import TSNE\n",
        "import plotly.express as px\n",
        "import pandas as pd\n",
        "import numpy as np\n",
        "\n",
        "\n",
        "words = [\n",
        "    \"jamu\",\n",
        "    \"batik\",\n",
        "    \"takbenda\",\n",
        "    \"wayang\",\n",
        "    \"tenun\",\n",
        "    \"bangunan\",\n",
        "    \"cagar\",\n",
        "    \"candi\",\n",
        "    \"museum\",\n",
        "    \"situs\",\n",
        "    \"songket\",\n",
        "    \"lurik\",\n",
        "    \"kain\",\n",
        "    \"ikat\",\n",
        "    \"tapis\",\n",
        "    \"rajin\",\n",
        "    \"borobudur\",\n",
        "    \"prambanan\",\n",
        "    \"boko\",\n",
        "    \"relief\",\n",
        "    \"resep\",\n",
        "    \"obat\",\n",
        "    \"koleksi\",\n",
        "    \"pustaka\",\n",
        "]"
      ]
    },
    {
      "cell_type": "code",
      "execution_count": null,
      "id": "6ed03518",
      "metadata": {
        "colab": {
          "base_uri": "https://localhost:8080/",
          "height": 542
        },
        "id": "6ed03518",
        "outputId": "57758249-ebde-4730-fa94-b9ee1927244e"
      },
      "outputs": [
        {
          "output_type": "display_data",
          "data": {
            "text/html": [
              "<html>\n",
              "<head><meta charset=\"utf-8\" /></head>\n",
              "<body>\n",
              "    <div>            <script src=\"https://cdnjs.cloudflare.com/ajax/libs/mathjax/2.7.5/MathJax.js?config=TeX-AMS-MML_SVG\"></script><script type=\"text/javascript\">if (window.MathJax && window.MathJax.Hub && window.MathJax.Hub.Config) {window.MathJax.Hub.Config({SVG: {font: \"STIX-Web\"}});}</script>                <script type=\"text/javascript\">window.PlotlyConfig = {MathJaxConfig: 'local'};</script>\n",
              "        <script charset=\"utf-8\" src=\"https://cdn.plot.ly/plotly-2.35.2.min.js\"></script>                <div id=\"2b98f20b-b6c7-4e8f-af86-79906981f571\" class=\"plotly-graph-div\" style=\"height:525px; width:100%;\"></div>            <script type=\"text/javascript\">                                    window.PLOTLYENV=window.PLOTLYENV || {};                                    if (document.getElementById(\"2b98f20b-b6c7-4e8f-af86-79906981f571\")) {                    Plotly.newPlot(                        \"2b98f20b-b6c7-4e8f-af86-79906981f571\",                        [{\"hovertemplate\":\"x=%{x}\\u003cbr\\u003ey=%{y}\\u003cbr\\u003eword=%{text}\\u003cextra\\u003e\\u003c\\u002fextra\\u003e\",\"legendgroup\":\"\",\"marker\":{\"color\":\"#636efa\",\"symbol\":\"circle\"},\"mode\":\"markers+text\",\"name\":\"\",\"orientation\":\"v\",\"showlegend\":false,\"text\":[\"jamu\",\"batik\",\"takbenda\",\"wayang\",\"tenun\",\"bangunan\",\"cagar\",\"candi\",\"museum\",\"situs\",\"songket\",\"lurik\",\"kain\",\"ikat\",\"tapis\",\"rajin\",\"borobudur\",\"prambanan\",\"boko\",\"relief\",\"resep\",\"obat\",\"koleksi\",\"pustaka\"],\"x\":[-4.1667066,46.567482,-2.4313817,-38.488335,40.95229,-18.520082,-14.594509,-20.915026,-32.28796,-16.47082,35.24493,50.946415,37.371696,36.076996,28.054792,30.376356,-13.90552,-25.870306,-20.954477,-20.503124,17.808336,-0.6265812,-40.43645,-33.981777],\"xaxis\":\"x\",\"y\":[-38.265602,0.4061477,4.3923254,-13.934254,-24.811804,-5.8452783,5.6126137,48.360355,2.769257,13.501381,-18.487484,-32.355232,-8.419298,-34.182423,-15.068701,-2.105867,51.791176,56.401756,64.03408,39.244152,-17.061203,-44.132412,7.881561,-4.4184756],\"yaxis\":\"y\",\"type\":\"scatter\",\"textposition\":\"top center\"}],                        {\"template\":{\"data\":{\"histogram2dcontour\":[{\"type\":\"histogram2dcontour\",\"colorbar\":{\"outlinewidth\":0,\"ticks\":\"\"},\"colorscale\":[[0.0,\"#0d0887\"],[0.1111111111111111,\"#46039f\"],[0.2222222222222222,\"#7201a8\"],[0.3333333333333333,\"#9c179e\"],[0.4444444444444444,\"#bd3786\"],[0.5555555555555556,\"#d8576b\"],[0.6666666666666666,\"#ed7953\"],[0.7777777777777778,\"#fb9f3a\"],[0.8888888888888888,\"#fdca26\"],[1.0,\"#f0f921\"]]}],\"choropleth\":[{\"type\":\"choropleth\",\"colorbar\":{\"outlinewidth\":0,\"ticks\":\"\"}}],\"histogram2d\":[{\"type\":\"histogram2d\",\"colorbar\":{\"outlinewidth\":0,\"ticks\":\"\"},\"colorscale\":[[0.0,\"#0d0887\"],[0.1111111111111111,\"#46039f\"],[0.2222222222222222,\"#7201a8\"],[0.3333333333333333,\"#9c179e\"],[0.4444444444444444,\"#bd3786\"],[0.5555555555555556,\"#d8576b\"],[0.6666666666666666,\"#ed7953\"],[0.7777777777777778,\"#fb9f3a\"],[0.8888888888888888,\"#fdca26\"],[1.0,\"#f0f921\"]]}],\"heatmap\":[{\"type\":\"heatmap\",\"colorbar\":{\"outlinewidth\":0,\"ticks\":\"\"},\"colorscale\":[[0.0,\"#0d0887\"],[0.1111111111111111,\"#46039f\"],[0.2222222222222222,\"#7201a8\"],[0.3333333333333333,\"#9c179e\"],[0.4444444444444444,\"#bd3786\"],[0.5555555555555556,\"#d8576b\"],[0.6666666666666666,\"#ed7953\"],[0.7777777777777778,\"#fb9f3a\"],[0.8888888888888888,\"#fdca26\"],[1.0,\"#f0f921\"]]}],\"heatmapgl\":[{\"type\":\"heatmapgl\",\"colorbar\":{\"outlinewidth\":0,\"ticks\":\"\"},\"colorscale\":[[0.0,\"#0d0887\"],[0.1111111111111111,\"#46039f\"],[0.2222222222222222,\"#7201a8\"],[0.3333333333333333,\"#9c179e\"],[0.4444444444444444,\"#bd3786\"],[0.5555555555555556,\"#d8576b\"],[0.6666666666666666,\"#ed7953\"],[0.7777777777777778,\"#fb9f3a\"],[0.8888888888888888,\"#fdca26\"],[1.0,\"#f0f921\"]]}],\"contourcarpet\":[{\"type\":\"contourcarpet\",\"colorbar\":{\"outlinewidth\":0,\"ticks\":\"\"}}],\"contour\":[{\"type\":\"contour\",\"colorbar\":{\"outlinewidth\":0,\"ticks\":\"\"},\"colorscale\":[[0.0,\"#0d0887\"],[0.1111111111111111,\"#46039f\"],[0.2222222222222222,\"#7201a8\"],[0.3333333333333333,\"#9c179e\"],[0.4444444444444444,\"#bd3786\"],[0.5555555555555556,\"#d8576b\"],[0.6666666666666666,\"#ed7953\"],[0.7777777777777778,\"#fb9f3a\"],[0.8888888888888888,\"#fdca26\"],[1.0,\"#f0f921\"]]}],\"surface\":[{\"type\":\"surface\",\"colorbar\":{\"outlinewidth\":0,\"ticks\":\"\"},\"colorscale\":[[0.0,\"#0d0887\"],[0.1111111111111111,\"#46039f\"],[0.2222222222222222,\"#7201a8\"],[0.3333333333333333,\"#9c179e\"],[0.4444444444444444,\"#bd3786\"],[0.5555555555555556,\"#d8576b\"],[0.6666666666666666,\"#ed7953\"],[0.7777777777777778,\"#fb9f3a\"],[0.8888888888888888,\"#fdca26\"],[1.0,\"#f0f921\"]]}],\"mesh3d\":[{\"type\":\"mesh3d\",\"colorbar\":{\"outlinewidth\":0,\"ticks\":\"\"}}],\"scatter\":[{\"fillpattern\":{\"fillmode\":\"overlay\",\"size\":10,\"solidity\":0.2},\"type\":\"scatter\"}],\"parcoords\":[{\"type\":\"parcoords\",\"line\":{\"colorbar\":{\"outlinewidth\":0,\"ticks\":\"\"}}}],\"scatterpolargl\":[{\"type\":\"scatterpolargl\",\"marker\":{\"colorbar\":{\"outlinewidth\":0,\"ticks\":\"\"}}}],\"bar\":[{\"error_x\":{\"color\":\"#2a3f5f\"},\"error_y\":{\"color\":\"#2a3f5f\"},\"marker\":{\"line\":{\"color\":\"#E5ECF6\",\"width\":0.5},\"pattern\":{\"fillmode\":\"overlay\",\"size\":10,\"solidity\":0.2}},\"type\":\"bar\"}],\"scattergeo\":[{\"type\":\"scattergeo\",\"marker\":{\"colorbar\":{\"outlinewidth\":0,\"ticks\":\"\"}}}],\"scatterpolar\":[{\"type\":\"scatterpolar\",\"marker\":{\"colorbar\":{\"outlinewidth\":0,\"ticks\":\"\"}}}],\"histogram\":[{\"marker\":{\"pattern\":{\"fillmode\":\"overlay\",\"size\":10,\"solidity\":0.2}},\"type\":\"histogram\"}],\"scattergl\":[{\"type\":\"scattergl\",\"marker\":{\"colorbar\":{\"outlinewidth\":0,\"ticks\":\"\"}}}],\"scatter3d\":[{\"type\":\"scatter3d\",\"line\":{\"colorbar\":{\"outlinewidth\":0,\"ticks\":\"\"}},\"marker\":{\"colorbar\":{\"outlinewidth\":0,\"ticks\":\"\"}}}],\"scattermapbox\":[{\"type\":\"scattermapbox\",\"marker\":{\"colorbar\":{\"outlinewidth\":0,\"ticks\":\"\"}}}],\"scatterternary\":[{\"type\":\"scatterternary\",\"marker\":{\"colorbar\":{\"outlinewidth\":0,\"ticks\":\"\"}}}],\"scattercarpet\":[{\"type\":\"scattercarpet\",\"marker\":{\"colorbar\":{\"outlinewidth\":0,\"ticks\":\"\"}}}],\"carpet\":[{\"aaxis\":{\"endlinecolor\":\"#2a3f5f\",\"gridcolor\":\"white\",\"linecolor\":\"white\",\"minorgridcolor\":\"white\",\"startlinecolor\":\"#2a3f5f\"},\"baxis\":{\"endlinecolor\":\"#2a3f5f\",\"gridcolor\":\"white\",\"linecolor\":\"white\",\"minorgridcolor\":\"white\",\"startlinecolor\":\"#2a3f5f\"},\"type\":\"carpet\"}],\"table\":[{\"cells\":{\"fill\":{\"color\":\"#EBF0F8\"},\"line\":{\"color\":\"white\"}},\"header\":{\"fill\":{\"color\":\"#C8D4E3\"},\"line\":{\"color\":\"white\"}},\"type\":\"table\"}],\"barpolar\":[{\"marker\":{\"line\":{\"color\":\"#E5ECF6\",\"width\":0.5},\"pattern\":{\"fillmode\":\"overlay\",\"size\":10,\"solidity\":0.2}},\"type\":\"barpolar\"}],\"pie\":[{\"automargin\":true,\"type\":\"pie\"}]},\"layout\":{\"autotypenumbers\":\"strict\",\"colorway\":[\"#636efa\",\"#EF553B\",\"#00cc96\",\"#ab63fa\",\"#FFA15A\",\"#19d3f3\",\"#FF6692\",\"#B6E880\",\"#FF97FF\",\"#FECB52\"],\"font\":{\"color\":\"#2a3f5f\"},\"hovermode\":\"closest\",\"hoverlabel\":{\"align\":\"left\"},\"paper_bgcolor\":\"white\",\"plot_bgcolor\":\"#E5ECF6\",\"polar\":{\"bgcolor\":\"#E5ECF6\",\"angularaxis\":{\"gridcolor\":\"white\",\"linecolor\":\"white\",\"ticks\":\"\"},\"radialaxis\":{\"gridcolor\":\"white\",\"linecolor\":\"white\",\"ticks\":\"\"}},\"ternary\":{\"bgcolor\":\"#E5ECF6\",\"aaxis\":{\"gridcolor\":\"white\",\"linecolor\":\"white\",\"ticks\":\"\"},\"baxis\":{\"gridcolor\":\"white\",\"linecolor\":\"white\",\"ticks\":\"\"},\"caxis\":{\"gridcolor\":\"white\",\"linecolor\":\"white\",\"ticks\":\"\"}},\"coloraxis\":{\"colorbar\":{\"outlinewidth\":0,\"ticks\":\"\"}},\"colorscale\":{\"sequential\":[[0.0,\"#0d0887\"],[0.1111111111111111,\"#46039f\"],[0.2222222222222222,\"#7201a8\"],[0.3333333333333333,\"#9c179e\"],[0.4444444444444444,\"#bd3786\"],[0.5555555555555556,\"#d8576b\"],[0.6666666666666666,\"#ed7953\"],[0.7777777777777778,\"#fb9f3a\"],[0.8888888888888888,\"#fdca26\"],[1.0,\"#f0f921\"]],\"sequentialminus\":[[0.0,\"#0d0887\"],[0.1111111111111111,\"#46039f\"],[0.2222222222222222,\"#7201a8\"],[0.3333333333333333,\"#9c179e\"],[0.4444444444444444,\"#bd3786\"],[0.5555555555555556,\"#d8576b\"],[0.6666666666666666,\"#ed7953\"],[0.7777777777777778,\"#fb9f3a\"],[0.8888888888888888,\"#fdca26\"],[1.0,\"#f0f921\"]],\"diverging\":[[0,\"#8e0152\"],[0.1,\"#c51b7d\"],[0.2,\"#de77ae\"],[0.3,\"#f1b6da\"],[0.4,\"#fde0ef\"],[0.5,\"#f7f7f7\"],[0.6,\"#e6f5d0\"],[0.7,\"#b8e186\"],[0.8,\"#7fbc41\"],[0.9,\"#4d9221\"],[1,\"#276419\"]]},\"xaxis\":{\"gridcolor\":\"white\",\"linecolor\":\"white\",\"ticks\":\"\",\"title\":{\"standoff\":15},\"zerolinecolor\":\"white\",\"automargin\":true,\"zerolinewidth\":2},\"yaxis\":{\"gridcolor\":\"white\",\"linecolor\":\"white\",\"ticks\":\"\",\"title\":{\"standoff\":15},\"zerolinecolor\":\"white\",\"automargin\":true,\"zerolinewidth\":2},\"scene\":{\"xaxis\":{\"backgroundcolor\":\"#E5ECF6\",\"gridcolor\":\"white\",\"linecolor\":\"white\",\"showbackground\":true,\"ticks\":\"\",\"zerolinecolor\":\"white\",\"gridwidth\":2},\"yaxis\":{\"backgroundcolor\":\"#E5ECF6\",\"gridcolor\":\"white\",\"linecolor\":\"white\",\"showbackground\":true,\"ticks\":\"\",\"zerolinecolor\":\"white\",\"gridwidth\":2},\"zaxis\":{\"backgroundcolor\":\"#E5ECF6\",\"gridcolor\":\"white\",\"linecolor\":\"white\",\"showbackground\":true,\"ticks\":\"\",\"zerolinecolor\":\"white\",\"gridwidth\":2}},\"shapedefaults\":{\"line\":{\"color\":\"#2a3f5f\"}},\"annotationdefaults\":{\"arrowcolor\":\"#2a3f5f\",\"arrowhead\":0,\"arrowwidth\":1},\"geo\":{\"bgcolor\":\"white\",\"landcolor\":\"#E5ECF6\",\"subunitcolor\":\"white\",\"showland\":true,\"showlakes\":true,\"lakecolor\":\"white\"},\"title\":{\"x\":0.05},\"mapbox\":{\"style\":\"light\"}}},\"xaxis\":{\"anchor\":\"y\",\"domain\":[0.0,1.0],\"title\":{\"text\":\"x\"}},\"yaxis\":{\"anchor\":\"x\",\"domain\":[0.0,1.0],\"title\":{\"text\":\"y\"}},\"legend\":{\"tracegroupgap\":0},\"title\":{\"text\":\"Visualisasi Word2Vec dengan t-SNE\"}},                        {\"responsive\": true}                    ).then(function(){\n",
              "                            \n",
              "var gd = document.getElementById('2b98f20b-b6c7-4e8f-af86-79906981f571');\n",
              "var x = new MutationObserver(function (mutations, observer) {{\n",
              "        var display = window.getComputedStyle(gd).display;\n",
              "        if (!display || display === 'none') {{\n",
              "            console.log([gd, 'removed!']);\n",
              "            Plotly.purge(gd);\n",
              "            observer.disconnect();\n",
              "        }}\n",
              "}});\n",
              "\n",
              "// Listen for the removal of the full notebook cells\n",
              "var notebookContainer = gd.closest('#notebook-container');\n",
              "if (notebookContainer) {{\n",
              "    x.observe(notebookContainer, {childList: true});\n",
              "}}\n",
              "\n",
              "// Listen for the clearing of the current output cell\n",
              "var outputEl = gd.closest('.output');\n",
              "if (outputEl) {{\n",
              "    x.observe(outputEl, {childList: true});\n",
              "}}\n",
              "\n",
              "                        })                };                            </script>        </div>\n",
              "</body>\n",
              "</html>"
            ]
          },
          "metadata": {}
        }
      ],
      "source": [
        "vectors = [model.get_word_vector(w) for w in words]\n",
        "vectors = np.array(vectors) # convert to numpy array\n",
        "tsne = TSNE(n_components=2, random_state=42, perplexity=5)\n",
        "vectors_2d = tsne.fit_transform(vectors)\n",
        "\n",
        "df_plot = pd.DataFrame({\n",
        "    \"x\": vectors_2d[:, 0],\n",
        "    \"y\": vectors_2d[:, 1],\n",
        "    \"word\": words\n",
        "})\n",
        "\n",
        "fig = px.scatter(df_plot, x=\"x\", y=\"y\", text=\"word\", title=\"Visualisasi Word2Vec dengan t-SNE\")\n",
        "fig.update_traces(textposition=\"top center\")\n",
        "fig.show()"
      ]
    },
    {
      "cell_type": "markdown",
      "id": "45c201cf",
      "metadata": {
        "id": "45c201cf"
      },
      "source": [
        "### Soal 3.3 (1 poin)\n",
        "\n",
        "Tampilkan 10 kata yang menjadi tetangga terdekat dari kata \"candi\"."
      ]
    },
    {
      "cell_type": "code",
      "execution_count": null,
      "id": "70e337e5",
      "metadata": {
        "colab": {
          "base_uri": "https://localhost:8080/"
        },
        "id": "70e337e5",
        "outputId": "fc69b6c4-f479-48da-9220-e6fb628b6aa5"
      },
      "outputs": [
        {
          "output_type": "execute_result",
          "data": {
            "text/plain": [
              "[(0.8670346736907959, 'candiprambanan'),\n",
              " (0.80804443359375, 'borobudur'),\n",
              " (0.763517439365387, 'prambanan'),\n",
              " (0.7197175025939941, 'twc'),\n",
              " (0.716879665851593, 'relief'),\n",
              " (0.685784101486206, 'budha'),\n",
              " (0.6660744547843933, 'boko'),\n",
              " (0.661866307258606, 'buddha'),\n",
              " (0.6433827877044678, 'febrina'),\n",
              " (0.6371355652809143, 'deret')]"
            ]
          },
          "metadata": {},
          "execution_count": 46
        }
      ],
      "source": [
        "model.get_nearest_neighbors(\"candi\", k=10)"
      ]
    },
    {
      "cell_type": "markdown",
      "id": "deb85701",
      "metadata": {
        "id": "deb85701"
      },
      "source": [
        "### Soal 3.4 (1 poin)\n",
        "\n",
        "Tampilkan 10 kata yang menjadi tetangga terdekat dari kata \"wayang\"."
      ]
    },
    {
      "cell_type": "code",
      "execution_count": null,
      "id": "86f8123b",
      "metadata": {
        "colab": {
          "base_uri": "https://localhost:8080/"
        },
        "id": "86f8123b",
        "outputId": "b0b014c7-19c2-4c2a-c39a-d055bcf88ed3"
      },
      "outputs": [
        {
          "output_type": "execute_result",
          "data": {
            "text/plain": [
              "[(0.8150941133499146, 'sayang'),\n",
              " (0.765613853931427, 'tayang'),\n",
              " (0.751242995262146, 'wayan'),\n",
              " (0.6935186386108398, 'kulit'),\n",
              " (0.6913776397705078, 'budayayang'),\n",
              " (0.572117030620575, 'ramayana'),\n",
              " (0.5655811429023743, 'negarayang'),\n",
              " (0.5605701804161072, 'lakon'),\n",
              " (0.557310938835144, 'indramayu'),\n",
              " (0.5491005182266235, 'menyayangkan')]"
            ]
          },
          "metadata": {},
          "execution_count": 47
        }
      ],
      "source": [
        "model.get_nearest_neighbors(\"wayang\", k=10)"
      ]
    },
    {
      "cell_type": "markdown",
      "id": "5bf9e82a",
      "metadata": {
        "id": "5bf9e82a"
      },
      "source": [
        "### Soal 3.5.a (3 poin)\n",
        "\n",
        "Latihlah model regresi logistik menggunakan rata-rata dari embeddings tiap kata dalam teks. Laporkan akurasinya pada data latih."
      ]
    },
    {
      "cell_type": "code",
      "execution_count": null,
      "id": "7db06c1c",
      "metadata": {
        "colab": {
          "base_uri": "https://localhost:8080/"
        },
        "id": "7db06c1c",
        "outputId": "6a81c9eb-5eb5-4ad9-c25d-2ac99b21c137"
      },
      "outputs": [
        {
          "output_type": "stream",
          "name": "stdout",
          "text": [
            "Akurasi pada data train: 77.62%\n"
          ]
        }
      ],
      "source": [
        "def text_to_avg_vector(text):\n",
        "    tokens = text.split()\n",
        "    vectors = [model.get_word_vector(t) for t in tokens if t in model.words]\n",
        "    if len(vectors) == 0:\n",
        "        return np.zeros(model.get_dimension())\n",
        "    return np.mean(vectors, axis=0)\n",
        "\n",
        "X_train_embed = np.vstack([text_to_avg_vector(t) for t in df_train['texts']])\n",
        "\n",
        "log_reg = LogisticRegression(max_iter=1000, random_state=42)\n",
        "log_reg.fit(X_train_embed, y_train)\n",
        "\n",
        "y_train_pred = log_reg.predict(X_train_embed)\n",
        "print(f\"Akurasi pada data latih: {accuracy_score(y_train, y_train_pred):.2%}\")"
      ]
    },
    {
      "cell_type": "markdown",
      "id": "ba9209d1",
      "metadata": {
        "id": "ba9209d1"
      },
      "source": [
        "### Soal 3.5.b (3 poin)\n",
        "\n",
        "Menggunakan model yang telah dilatih di soal 3.5.a, prediksi label dari data uji. Laporkan akurasinya."
      ]
    },
    {
      "cell_type": "code",
      "execution_count": null,
      "id": "7de1fde5",
      "metadata": {
        "colab": {
          "base_uri": "https://localhost:8080/"
        },
        "id": "7de1fde5",
        "outputId": "92efefe3-dbdb-4be4-c9b2-399d707e2e99"
      },
      "outputs": [
        {
          "output_type": "stream",
          "name": "stdout",
          "text": [
            "Akurasi pada data uji: 81.00%\n"
          ]
        }
      ],
      "source": [
        "def text_to_avg_vector(text):\n",
        "    tokens = text.split()\n",
        "    vectors = [model.get_word_vector(t) for t in tokens if t in model.words]\n",
        "    if len(vectors) == 0:\n",
        "        return np.zeros(model.get_dimension())\n",
        "    return np.mean(vectors, axis=0)\n",
        "\n",
        "X_test = (\n",
        "    df_test[\"texts\"]\n",
        "    .str.lower()\n",
        "    .str.replace(\"[^A-z ]\", \"\", regex=True)\n",
        "    .str.replace(\"  +\", \" \", regex=True)\n",
        ")\n",
        "\n",
        "X_test_embed = np.vstack([text_to_avg_vector(t) for t in X_test])\n",
        "y_test_pred = log_reg.predict(X_test_embed)\n",
        "print(f\"Akurasi pada data uji: {accuracy_score(y_test, y_test_pred):.2%}\")"
      ]
    },
    {
      "cell_type": "markdown",
      "id": "d2dc8f04",
      "metadata": {
        "id": "d2dc8f04"
      },
      "source": [
        "### Soal 3.6 (3 poin)\n",
        "\n",
        "Sebutkan tiga alasan dapat menyebabkan akurasi dari model regresi logistik menggunakan fitur word2vec lebih buruk dibandingkan TF-IDF dalam kasus ini."
      ]
    },
    {
      "cell_type": "markdown",
      "id": "925e5753",
      "metadata": {
        "id": "925e5753"
      },
      "source": [
        "3 alasan utama dalam bentuk poin yang jelas:\n",
        "\n",
        "1. Word2Vec tidak mempertimbangkan frekuensi kata,\n",
        "   Word2Vec hanya mempelajari hubungan antar kata, bukan seberapa penting kata tersebut dalam dokumen tertentu, sedangkan TF-IDF memberikan bobot lebih tinggi untuk kata-kata penting yang jarang muncul.\n",
        "\n",
        "2. Rata-rata embedding menghilangkan konteks dan struktur kalimat,\n",
        "   Dengan merata-ratakan semua vektor kata, model kehilangan informasi urutan kata dan hubungan sintaksis yang bisa relevan dalam klasifikasi.\n",
        "\n",
        "3. Embeddings yang dilatih dari data terbatas kurang representatif,\n",
        "   Word2Vec dilatih dari data sendiri secara unsupervised, sehingga kosa kata dan kualitas vektor bisa kurang akurat dibanding TF-IDF yang langsung mencerminkan statistik korpus.\n"
      ]
    },
    {
      "cell_type": "markdown",
      "id": "26ee3a9b",
      "metadata": {
        "id": "26ee3a9b"
      },
      "source": [
        "### Soal 3.7 (5 poin)\n",
        "\n",
        "Lakukan eksplorasi tambahan terkait dataset yang diberikan. Berikan komentar terkait hasil eksplorasi Anda.\n",
        "\n",
        "Beberapa alternatif:\n",
        "1. Coba label yang berbeda, maksimalkan metrik evaluasinya. Apakah cukup menggunakan akurasi?\n",
        "2. Coba model yang berbeda. Apakah akurasinya bisa ditingkatkan lagi dengan fitur word2vec?\n",
        "3. Coba vektor yang berbeda. Cari sumber lain untuk mendapatkan word embeddings dalam bahasa Indonesia, lalu latih kembali model regresi logistik dengan cara yang serupa seperti di atas. Perhatikan akurasinya."
      ]
    },
    {
      "cell_type": "code",
      "execution_count": null,
      "id": "f8ec9a25",
      "metadata": {
        "colab": {
          "base_uri": "https://localhost:8080/"
        },
        "id": "f8ec9a25",
        "outputId": "44b2aa1a-81f2-4729-acd7-eb9ff42fee58"
      },
      "outputs": [
        {
          "output_type": "stream",
          "name": "stdout",
          "text": [
            "Akurasi SVM = 82.00%\n"
          ]
        }
      ],
      "source": [
        "#kali ini saya menggunakan model SVM\n",
        "from sklearn.svm import SVC\n",
        "from sklearn.metrics import accuracy_score\n",
        "\n",
        "#mwlatih dengan model super vector machine\n",
        "svm_clf = SVC(kernel=\"linear\", random_state=42)\n",
        "svm_clf.fit(X_train_embed, y_train)\n",
        "\n",
        "#prediksi dan evaluasi akurasi pada data uji\n",
        "y_pred_svm = svm_clf.predict(X_test_embed)\n",
        "print(f\"Akurasi SVM = {accuracy_score(y_test, y_pred_svm):.2%}\")"
      ]
    }
  ],
  "metadata": {
    "kernelspec": {
      "display_name": "base",
      "language": "python",
      "name": "python3"
    },
    "language_info": {
      "codemirror_mode": {
        "name": "ipython",
        "version": 3
      },
      "file_extension": ".py",
      "mimetype": "text/x-python",
      "name": "python",
      "nbconvert_exporter": "python",
      "pygments_lexer": "ipython3",
      "version": "3.12.7"
    },
    "colab": {
      "provenance": [],
      "include_colab_link": true
    }
  },
  "nbformat": 4,
  "nbformat_minor": 5
}